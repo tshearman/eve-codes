{
 "cells": [
  {
   "cell_type": "code",
   "execution_count": 1,
   "metadata": {},
   "outputs": [],
   "source": [
    "import threading, time\n"
   ]
  },
  {
   "cell_type": "code",
   "execution_count": 17,
   "metadata": {},
   "outputs": [],
   "source": [
    "def my_threaded_func(a, s = 10):\n",
    "    print(f\"Running thread: {a}\\n\")\n",
    "    time.sleep(s)\n",
    "    print(f\"Completed thread: {a}\\n\")\n"
   ]
  },
  {
   "cell_type": "code",
   "execution_count": 25,
   "metadata": {},
   "outputs": [
    {
     "name": "stdout",
     "output_type": "stream",
     "text": [
      "Running thread: 0\n",
      "\n",
      "Spun off thread: 0\n",
      "Running thread: 1\n",
      "Spun off thread: 1\n",
      "\n",
      "Running thread: 2\n",
      "Spun off thread: 2\n",
      "\n",
      "Running thread: 3\n",
      "Spun off thread: 3\n",
      "\n",
      "Running thread: 4\n",
      "Spun off thread: 4\n",
      "\n",
      "Completed thread: 0\n",
      "\n",
      "Running thread: 5\n",
      "Spun off thread: 5\n",
      "\n",
      "Completed thread: 1\n",
      "\n",
      "Completed thread: 2\n",
      "\n",
      "Running thread: 6\n",
      "\n",
      "Spun off thread: 6\n",
      "Completed thread: 3\n",
      "\n",
      "Completed thread: 4\n",
      "\n",
      "Running thread: 7\n",
      "Spun off thread: 7\n",
      "\n",
      "Completed thread: 5\n",
      "\n",
      "Completed thread: 6\n",
      "\n",
      "Running thread: 8\n",
      "Spun off thread: 8\n",
      "\n",
      "Completed thread: 7\n",
      "\n",
      "Completed thread: 8\n",
      "Running thread: 9\n",
      "Spun off thread: 9\n",
      "\n",
      "\n",
      "Completed thread: 9\n",
      "\n"
     ]
    }
   ],
   "source": [
    "%timeit\n",
    "for t in range(10):\n",
    "    time.sleep(1)\n",
    "    thread = threading.Thread(target=my_threaded_func, args=(t, 5 - t/2))\n",
    "    thread.start()\n",
    "    print(f\"Spun off thread: {t}\")\n"
   ]
  },
  {
   "cell_type": "code",
   "execution_count": null,
   "metadata": {},
   "outputs": [],
   "source": []
  }
 ],
 "metadata": {
  "kernelspec": {
   "display_name": "Python 3",
   "language": "python",
   "name": "python3"
  },
  "language_info": {
   "codemirror_mode": {
    "name": "ipython",
    "version": 3
   },
   "file_extension": ".py",
   "mimetype": "text/x-python",
   "name": "python",
   "nbconvert_exporter": "python",
   "pygments_lexer": "ipython3",
   "version": "3.9.1"
  }
 },
 "nbformat": 4,
 "nbformat_minor": 4
}
