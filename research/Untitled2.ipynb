{
 "cells": [
  {
   "cell_type": "code",
   "execution_count": 49,
   "metadata": {},
   "outputs": [],
   "source": [
    "import requests\n",
    "import re\n",
    "import wget\n",
    "import os\n",
    "\n",
    "from bs4 import BeautifulSoup\n"
   ]
  },
  {
   "cell_type": "code",
   "execution_count": 50,
   "metadata": {},
   "outputs": [],
   "source": [
    "def parse(url, parser=\"html.parser\"):\n",
    "    dump = requests.get(url)\n",
    "    return BeautifulSoup(dump.content, parser)\n",
    "\n",
    "def parse_href(tag):\n",
    "    return tag.attrs[\"href\"]\n",
    "\n",
    "def sde_match(s):\n",
    "    return (s[:4] == \"sde-\" and \"TRANQUILITY/\" in s) or ()\n",
    "    \n",
    "def valid_file_url(url):\n",
    "    return len(url.split(\"/\")[-1]) > 0\n",
    "\n",
    "def extract_file(url):\n",
    "    return url.split(\"/\")[-1]\n",
    "\n",
    "def download_if_not_exists(url, dest):\n",
    "    dest = dest if dest[-1] == \"/\" else f\"{dest}/\"\n",
    "    try:\n",
    "        if not os.path.exists(dest):\n",
    "            print(f\"Creating directory: {dest}\")\n",
    "            os.mkdir(dest)\n",
    "\n",
    "        file = extract_file(url)\n",
    "        loc = dest + file\n",
    "        if not os.path.exists(loc):\n",
    "            print(f\"Downloading\\n\\turl: {url} \\n\\tto:{loc}\")\n",
    "            wget.download(url, loc)\n",
    "        return True\n",
    "    except KeyboardInterrupt:\n",
    "        raise()\n",
    "    except:\n",
    "        return False\n"
   ]
  },
  {
   "cell_type": "code",
   "execution_count": 53,
   "metadata": {},
   "outputs": [
    {
     "name": "stdout",
     "output_type": "stream",
     "text": [
      "Downloading\n",
      "\turl: https://www.fuzzwork.co.uk/dump/sde-20200511-TRANQUILITY/postgres-20200511-TRANQUILITY.dmp.bz2 \n",
      "\tto:/Users/toby/Projects/eve/data/sde-20200511-TRANQUILITY/postgres-20200511-TRANQUILITY.dmp.bz2\n",
      "Downloading\n",
      "\turl: https://www.fuzzwork.co.uk/dump/sde-20190516-TRANQUILITY/evesde.bacpac \n",
      "\tto:/Users/toby/Projects/eve/data/sde-20190516-TRANQUILITY/evesde.bacpac\n",
      "Downloading\n",
      "\turl: https://www.fuzzwork.co.uk/dump/sde-20190516-TRANQUILITY/eve.db \n",
      "\tto:/Users/toby/Projects/eve/data/sde-20190516-TRANQUILITY/eve.db\n"
     ]
    }
   ],
   "source": [
    "base_url = \"https://www.fuzzwork.co.uk/dump/\"\n",
    "store_folder = \"/Users/toby/Projects/eve/data/\"\n",
    "\n",
    "dump = parse(base_url)\n",
    "folders = sorted(filter(sde_match, map(parse_href, dump.find_all(\"a\"))), reverse = True)\n",
    "failed = []\n",
    "for folder in folders:\n",
    "    folder_content = parse(base_url + folder)\n",
    "    files = map(parse_href, folder_content.find_all(\"a\"))\n",
    "    files = filter(lambda x: \".\" in x, files)\n",
    "    for f in files:\n",
    "        url = base_url + folder + f\n",
    "        dest = store_folder + folder\n",
    "        downloaded =  download_if_not_exists(url, dest)\n",
    "        if not downloaded:\n",
    "            failed.append(url)\n"
   ]
  },
  {
   "cell_type": "code",
   "execution_count": 48,
   "metadata": {},
   "outputs": [
    {
     "data": {
      "text/plain": [
       "['https://www.fuzzwork.co.uk/dump/sde-20190516-TRANQUILITY/evesde.bacpac',\n",
       " 'https://www.fuzzwork.co.uk/dump/sde-20190516-TRANQUILITY/eve.db']"
      ]
     },
     "execution_count": 48,
     "metadata": {},
     "output_type": "execute_result"
    }
   ],
   "source": [
    "failed\n"
   ]
  },
  {
   "cell_type": "code",
   "execution_count": null,
   "metadata": {},
   "outputs": [],
   "source": []
  }
 ],
 "metadata": {
  "kernelspec": {
   "display_name": "Python 3",
   "language": "python",
   "name": "python3"
  },
  "language_info": {
   "codemirror_mode": {
    "name": "ipython",
    "version": 3
   },
   "file_extension": ".py",
   "mimetype": "text/x-python",
   "name": "python",
   "nbconvert_exporter": "python",
   "pygments_lexer": "ipython3",
   "version": "3.8.2"
  }
 },
 "nbformat": 4,
 "nbformat_minor": 4
}
