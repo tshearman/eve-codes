{
 "cells": [
  {
   "cell_type": "code",
   "execution_count": 6,
   "metadata": {},
   "outputs": [],
   "source": [
    "import requests\n",
    "import re\n",
    "import wget\n",
    "import os\n",
    "import argparse\n",
    "import logging\n",
    "\n",
    "from retrying import retry\n",
    "from bs4 import BeautifulSoup\n"
   ]
  },
  {
   "cell_type": "code",
   "execution_count": 35,
   "metadata": {},
   "outputs": [],
   "source": [
    "def parse(url, parser=\"html.parser\"):\n",
    "    dump = requests.get(url)\n",
    "    return BeautifulSoup(dump.content, parser)\n",
    "\n",
    "\n",
    "def parse_href(tag):\n",
    "    return tag.attrs[\"href\"]\n",
    "\n",
    "\n",
    "def sde_match(s):\n",
    "    return (s[:4] == \"sde-\" and \"TRANQUILITY/\" in s) or ()\n",
    "\n",
    "\n",
    "def valid_file_url(url):\n",
    "    return len(url.split(\"/\")[-1]) > 0\n",
    "\n",
    "\n",
    "def extract_file(url):\n",
    "    return url.split(\"/\")[-1]\n",
    "\n",
    "\n",
    "@retry(stop_max_attempt_number=10,\n",
    "       wait_exponential_multiplier=1000, \n",
    "       wait_exponential_max=10000)\n",
    "def download(url):\n",
    "    print(f\"Downloading\\n\\turl: {url}\")\n",
    "    r = requests.get(url, allow_redirects=True)\n",
    "    print(\"\\tComplete.\")\n",
    "    return r\n",
    "\n",
    "        \n",
    "def write(r, to):\n",
    "    with open(to, \"wb+\") as f:\n",
    "        print(f\"Writing\\n\\tto: {to}\")\n",
    "        f.write(r.content)\n",
    "        print(\"\\tComplete.\")\n",
    "    \n",
    "\n",
    "def download_if_not_exists(url, dest):\n",
    "    dest = dest if dest[-1] == \"/\" else f\"{dest}/\"\n",
    "    if not os.path.exists(dest):\n",
    "        print(f\"Creating directory: {dest}\")\n",
    "        os.mkdir(dest)\n",
    "\n",
    "    file = extract_file(url)\n",
    "    loc = dest + file\n",
    "    if not os.path.exists(loc):\n",
    "        r = download(url)\n",
    "        write(r, loc)\n",
    "\n",
    "\n",
    "def collect_all(base_url, store_folder):\n",
    "    dump = parse(base_url)\n",
    "    folders = sorted(filter(sde_match, map(parse_href, dump.find_all(\"a\"))), reverse = True)\n",
    "    for folder in folders:\n",
    "        folder_content = parse(base_url + folder)\n",
    "        files = map(parse_href, folder_content.find_all(\"a\"))\n",
    "        files = filter(lambda x: \".\" in x, files)\n",
    "        for f in files:\n",
    "            url = base_url + folder + f\n",
    "            dest = store_folder + folder\n",
    "            download_if_not_exists(url, dest)\n"
   ]
  },
  {
   "cell_type": "code",
   "execution_count": null,
   "metadata": {},
   "outputs": [],
   "source": []
  }
 ],
 "metadata": {
  "kernelspec": {
   "display_name": "Python 3",
   "language": "python",
   "name": "python3"
  },
  "language_info": {
   "codemirror_mode": {
    "name": "ipython",
    "version": 3
   },
   "file_extension": ".py",
   "mimetype": "text/x-python",
   "name": "python",
   "nbconvert_exporter": "python",
   "pygments_lexer": "ipython3",
   "version": "3.8.3"
  }
 },
 "nbformat": 4,
 "nbformat_minor": 4
}
