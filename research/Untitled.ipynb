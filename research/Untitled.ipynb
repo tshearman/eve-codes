{
 "cells": [
  {
   "cell_type": "code",
   "execution_count": 1,
   "metadata": {},
   "outputs": [],
   "source": [
    "import requests\n",
    "import json\n",
    "import matplotlib\n",
    "import numpy as np"
   ]
  },
  {
   "cell_type": "code",
   "execution_count": 2,
   "metadata": {},
   "outputs": [],
   "source": [
    "def order_book_url(region_id, type_id):\n",
    "    return f\"https://esi.evetech.net/latest/markets/{region_id}/orders/?datasource=tranquility&order_type=all&page=1&type_id={type_id}\"\n"
   ]
  },
  {
   "cell_type": "code",
   "execution_count": 3,
   "metadata": {},
   "outputs": [],
   "source": [
    "response = requests.get(order_book_url(10000002, 623))"
   ]
  },
  {
   "cell_type": "code",
   "execution_count": 4,
   "metadata": {},
   "outputs": [],
   "source": [
    "data = json.loads(response.content)"
   ]
  },
  {
   "cell_type": "code",
   "execution_count": 5,
   "metadata": {},
   "outputs": [],
   "source": [
    "def compile_buy_orders(data):\n",
    "    buy_orders = {}\n",
    "    buy_movement = {}\n",
    "    sell_orders = {}\n",
    "    sell_movement = {}\n",
    "    for x in data:\n",
    "        if x['is_buy_order']:\n",
    "            if x['price'] in buy_orders:\n",
    "                buy_orders[x['price']] += x['volume_remain']\n",
    "                buy_movement[x['price']] += x['volume_total']\n",
    "            else:\n",
    "                buy_orders[x['price']] = x['volume_remain']\n",
    "                buy_movement[x['price']] = x['volume_total']\n",
    "        else:\n",
    "            if x['price'] in sell_orders:\n",
    "                sell_orders[x['price']] += x['volume_remain']\n",
    "                sell_movement[x['price']] += x['volume_total']\n",
    "            else:\n",
    "                sell_orders[x['price']] = x['volume_remain']\n",
    "                sell_movement[x['price']] = x['volume_total']\n",
    "                \n",
    "    return buy_orders, buy_movement, sell_orders, sell_movement"
   ]
  },
  {
   "cell_type": "code",
   "execution_count": 6,
   "metadata": {},
   "outputs": [],
   "source": [
    "buy_orders, buy_movement, sell_orders, sell_movement = compile_buy_orders(data)"
   ]
  },
  {
   "cell_type": "code",
   "execution_count": 7,
   "metadata": {},
   "outputs": [
    {
     "data": {
      "text/plain": [
       "{7000010.16: 3,\n",
       " 100.1: 10,\n",
       " 5511002.44: 20,\n",
       " 5511002.08: 12,\n",
       " 6200000.04: 9,\n",
       " 7151002.05: 11,\n",
       " 6300003.22: 10,\n",
       " 6101000.04: 4,\n",
       " 6300001.01: 33,\n",
       " 6350013.0: 49,\n",
       " 3810026.02: 1,\n",
       " 5511002.45: 8,\n",
       " 6350013.01: 8,\n",
       " 6350012.01: 14,\n",
       " 1409050.12: 9,\n",
       " 7200000.01: 4,\n",
       " 7200001.0: 36}"
      ]
     },
     "execution_count": 7,
     "metadata": {},
     "output_type": "execute_result"
    }
   ],
   "source": [
    "buy_orders"
   ]
  },
  {
   "cell_type": "code",
   "execution_count": 10,
   "metadata": {},
   "outputs": [],
   "source": [
    "import matplotlib.pyplot as plt\n",
    "%matplotlib inline"
   ]
  },
  {
   "cell_type": "code",
   "execution_count": 29,
   "metadata": {},
   "outputs": [],
   "source": [
    "prices = sorted(list(buy_orders.keys()))\n",
    "volumes = [buy_orders[x] for x in list(buy_orders.keys())]"
   ]
  },
  {
   "cell_type": "code",
   "execution_count": 31,
   "metadata": {},
   "outputs": [],
   "source": [
    "def weighted_avg_and_std(values, weights):\n",
    "    \"\"\"\n",
    "    Return the weighted average and standard deviation.\n",
    "\n",
    "    values, weights -- Numpy ndarrays with the same shape.\n",
    "    \"\"\"\n",
    "    average = np.average(values, weights=weights)\n",
    "    # Fast and numerically precise:\n",
    "    variance = np.average((values-average)**2, weights=weights)\n",
    "    return (average, np.sqrt(variance))"
   ]
  },
  {
   "cell_type": "code",
   "execution_count": 32,
   "metadata": {},
   "outputs": [
    {
     "data": {
      "text/plain": [
       "(5922668.06746888, 1460607.6313051875)"
      ]
     },
     "execution_count": 32,
     "metadata": {},
     "output_type": "execute_result"
    }
   ],
   "source": [
    "weighted_avg_and_std(prices, volumes)"
   ]
  },
  {
   "cell_type": "code",
   "execution_count": 19,
   "metadata": {},
   "outputs": [
    {
     "data": {
      "text/plain": [
       "<matplotlib.collections.PathCollection at 0x11b796c18>"
      ]
     },
     "execution_count": 19,
     "metadata": {},
     "output_type": "execute_result"
    },
    {
     "data": {
      "image/png": "[encoded data removed]",
      "text/plain": [
       "<Figure size 432x288 with 1 Axes>"
      ]
     },
     "metadata": {
      "needs_background": "light"
     },
     "output_type": "display_data"
    }
   ],
   "source": [
    "plt.scatter(list(buy_orders.keys()), )"
   ]
  },
  {
   "cell_type": "code",
   "execution_count": 16,
   "metadata": {},
   "outputs": [
    {
     "data": {
      "text/plain": [
       "[7000010.16,\n",
       " 100.1,\n",
       " 5511002.44,\n",
       " 5511002.08,\n",
       " 6200000.04,\n",
       " 7151002.05,\n",
       " 6300003.22,\n",
       " 6101000.04,\n",
       " 6300001.01,\n",
       " 6350013.0,\n",
       " 3810026.02,\n",
       " 5511002.45,\n",
       " 6350013.01,\n",
       " 6350012.01,\n",
       " 1409050.12,\n",
       " 7200000.01,\n",
       " 7200001.0]"
      ]
     },
     "execution_count": 16,
     "metadata": {},
     "output_type": "execute_result"
    }
   ],
   "source": []
  },
  {
   "cell_type": "code",
   "execution_count": null,
   "metadata": {},
   "outputs": [],
   "source": [
    "import concurrent.futures\n",
    "import requests\n",
    "import threading\n",
    "import time"
   ]
  },
  {
   "cell_type": "code",
   "execution_count": null,
   "metadata": {},
   "outputs": [],
   "source": []
  }
 ],
 "metadata": {
  "kernelspec": {
   "display_name": "Python 3",
   "language": "python",
   "name": "python3"
  },
  "language_info": {
   "codemirror_mode": {
    "name": "ipython",
    "version": 3
   },
   "file_extension": ".py",
   "mimetype": "text/x-python",
   "name": "python",
   "nbconvert_exporter": "python",
   "pygments_lexer": "ipython3",
   "version": "3.7.3"
  }
 },
 "nbformat": 4,
 "nbformat_minor": 2
}
